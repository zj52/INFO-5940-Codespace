{
 "cells": [
  {
   "cell_type": "code",
   "execution_count": 8,
   "id": "e35c160e",
   "metadata": {},
   "outputs": [
    {
     "name": "stdout",
     "output_type": "stream",
     "text": [
      "GPT-4o-mini:\n",
      "\n",
      "### Overview\n",
      "In this lecture of INFO 5940 at Cornell, various topics surrounding Artificial Intelligence (AI) were discussed. The class began with student experiences related to AI applications, specifically focusing on tools like ChatGPT and Gemini. Discussions included the implications of AI in design, job searching, and the inner critic phenomena. The lecturer emphasized the importance of understanding AI technology's potential and its associated challenges, particularly in the context of developing apps using AI models. A segment was dedicated to demonstrating the OpenAI SDK, discussing its functionalities, and explaining how API usage differs from general AI models like ChatGPT.\n",
      "\n",
      "### Actions\n",
      "1. Share experiences with AI applications, including successes and challenges.\n",
      "2. Familiarize yourself with Gemini, ChatGPT, and the implications of AI in your personal and professional life.\n",
      "3. Ensure participation in upcoming Zoom sessions and prepare for the development environment workshop.\n",
      "4. Engage in discussions on AI ethics and security, particularly around email searching and facial recognition technologies.\n",
      "5. Review the OpenAI SDK and familiarize yourself with its response APIs and how to effectively implement them in future assignments.\n",
      "\n",
      "### Detailed Notes\n",
      "- **Class starter**: The class began with a discussion inviting students to share experiences regarding AI usage in tasks or projects. \n",
      "- **Inner critic discussion**: The concept of the inner critic was introduced, characterized as a negative internal voice. A student shared an anecdote involving Gemini, which humorously expressed self-loathing after a programming error, known as an example of the inner critic in action.\n",
      "- **AI in design**: A student recounted their experience using ChatGPT to create a graphic design for a hotel executive, highlighting AI's role in facilitating tasks outside their skill set (color choices, design feedback).\n",
      "- **AI email search**: Another student shared a seemingly successful instance of using ChatGPT's deep research mode to find email addresses of professionals on LinkedIn, raising questions about data accuracy and implications for privacy.\n",
      "- **Security concerns**: The potential misuse of generated images and email findings was discussed, highlighting risks such as identity theft and fraudulent activities.\n",
      "- **Introduction to NanoBanana**: The lecture introduced NanoBanana, Gemini's new image generation model, and compared it to existing models in terms of quality. Students were encouraged to experiment with it.\n",
      "- **Implications of AI advancements**: The lecturer prompted a discussion on the implications of improved AI tools in various domains, including design and security. Concerns were raised about using AI technologies for deceptive practices.\n",
      "- **Upcoming sessions**: Details were provided regarding two important upcoming sessions—one on Zoom led by the lecturer while traveling and the second focusing on developing technical environments facilitated by RTAs.\n",
      "- **OpenAI SDK introduction**: The lecturer walked through the OpenAI SDK, explaining the differences between APIs and how to utilize them. Notation for model interactions, temperature settings, and response handling was provided.\n",
      "- **API calls**: Differences were highlighted between the chat completion API and the new responses API, including how context is managed for each session and the limitations of storing and recalling conversations.\n",
      "- **Billing strategy**: Discussion on the cost implications of using AI models (the difference in input vs. output tokens) and why pricing structures exist based on computational demand.\n",
      "- **Final thoughts**: Curiosity was expressed regarding AI’s environmental impact, shifting focus towards how models are operated and the efficiency of AI computations across varying token sizes.\n",
      "\n",
      "This structure helps make the detailed information more digestible and provides a comprehensive overview of the session's key takeaways, allowing students who missed the class to grasp essential concepts covered during the lecture.\n",
      "\n",
      "\n",
      "Reformatted transcript saved to /workspaces/INFO-5940-Codespace/data/combined_transcript_reformatted.txt\n"
     ]
    }
   ],
   "source": [
    "from dotenv import load_dotenv\n",
    "from openai import OpenAI\n",
    "from pathlib import Path\n",
    "\n",
    "# Load environment variables (expects your API key in .env)\n",
    "load_dotenv()\n",
    "\n",
    "openai = OpenAI()\n",
    "\n",
    "# Read the transcript file\n",
    "input_file = Path(\"data/combined_transcript.txt\")\n",
    "transcript_text = input_file.read_text(encoding=\"utf-8\")\n",
    "\n",
    "# Call the model\n",
    "response = openai.chat.completions.create(\n",
    "    model='openai.gpt-4o-mini',\n",
    "    messages=[\n",
    "        {'role': 'system', 'content': 'You are a graduate assistant that reviews lecture notes from the INFO 5940 class at Cornell. Please step through the entire set of notes given in the provided transcipt file and format the content into easily readable sections, always creating an actions section and an overview at the top, followed by detailed notes, taking care not to omit any information from the transcript and to never add any factual information not in the transcript. When you are done, think about your notes to determine if they are logical and would make sense to a student who did not attend the lecture and if you have the 3 sections: overview, actions, and detailed notes. '},\n",
    "        {'role': 'user', 'content': transcript_text},\n",
    "    ],\n",
    ").choices[0].message.content\n",
    "\n",
    "# Save reformatted transcript\n",
    "output_file = Path(\"data/combined_transcript_reformatted.txt\")\n",
    "output_file.write_text(response, encoding=\"utf-8\")\n",
    "\n",
    "print(f'GPT-4o-mini:\\n\\n{response}\\n\\n')\n",
    "print(f'Reformatted transcript saved to {output_file.resolve()}')"
   ]
  }
 ],
 "metadata": {
  "kernelspec": {
   "display_name": "Python 3",
   "language": "python",
   "name": "python3"
  },
  "language_info": {
   "codemirror_mode": {
    "name": "ipython",
    "version": 3
   },
   "file_extension": ".py",
   "mimetype": "text/x-python",
   "name": "python",
   "nbconvert_exporter": "python",
   "pygments_lexer": "ipython3",
   "version": "3.11.13"
  }
 },
 "nbformat": 4,
 "nbformat_minor": 5
}
